{
 "cells": [
  {
   "cell_type": "code",
   "execution_count": null,
   "metadata": {
    "collapsed": true,
    "deletable": true,
    "editable": true,
    "slideshow": {
     "slide_type": "skip"
    }
   },
   "outputs": [],
   "source": []
  },
  {
   "cell_type": "markdown",
   "metadata": {
    "deletable": true,
    "editable": true,
    "slideshow": {
     "slide_type": "slide"
    }
   },
   "source": [
    "# Примеры использования самоорганизующихся карт Кохонена для анализа пространственно-временных данных\n",
    "\n",
    "## Дмитрий Колесов (kolesov.dm@gmail.com)\n",
    "\n",
    "### NextGIS"
   ]
  },
  {
   "cell_type": "markdown",
   "metadata": {
    "deletable": true,
    "editable": true,
    "slideshow": {
     "slide_type": "slide"
    }
   },
   "source": [
    "# О чем пойдет речь\n",
    "\n",
    "1. Где могут помочь самоорганизующиеся карты\n",
    "2. Как они работают\n",
    "3. Примеры использования\n",
    "4. Развитие методов и близкие алгоритмы\n"
   ]
  },
  {
   "cell_type": "markdown",
   "metadata": {
    "deletable": true,
    "editable": true,
    "slideshow": {
     "slide_type": "slide"
    }
   },
   "source": [
    "# Что такое карты Кохонена (SOM)\n",
    "\n",
    "<img src=\"Pics/SOMsPCA.PNG\" width=\"50%\">\n",
    "(https://en.wikipedia.org/wiki/Self-organizing_map)\n",
    "\n",
    "### Литература\n",
    " * Зиновьев А. Ю. Визуализация многомерных данных //Красноярск: Изд-во КГТУ,  2000.\n",
    " * Хайкин С. Нейронные сети: полный курс, 2-е издание. //Издательский дом Вильямс, 2008.\n",
    " * Кохонен Т. Самоорганизующиеся карты. Пер. с англ //М.: Бином. Лаборатория знаний, 2008."
   ]
  },
  {
   "cell_type": "markdown",
   "metadata": {
    "deletable": true,
    "editable": true,
    "slideshow": {
     "slide_type": "subslide"
    }
   },
   "source": [
    "# С чего начинается работа с данными\n",
    "\n",
    "\n",
    "1. Сбор данных.\n",
    "2. Рождение ТАБЛИЦЫ.\n",
    "\n",
    "Type     | X1| X2| X3|X4|...\n",
    "---------|----|--|--|--|---\n",
    ".........|... |...|...|...|...\n",
    "Единороги|1234|54|45|5|...\n",
    ".........|... |...|...|...|...\n"
   ]
  },
  {
   "cell_type": "markdown",
   "metadata": {
    "deletable": true,
    "editable": true,
    "slideshow": {
     "slide_type": "subslide"
    }
   },
   "source": [
    "# Таблица (данные)\n",
    "\n",
    "* Таблица - содержит полное описание данных.\n",
    "* Тяжело понять, есть ли тенденции в данных, что существенно, а что нет.\n",
    "\n",
    "### Вопросы к данным:\n",
    "\n",
    "* Стоит ли что-нибудь за данными и как они устроены?\n",
    "* Возможно ли построить на данных сколько-нибудь разумную систему отношений/взаимосвязей?\n",
    "* Какова эффективная размерность данных?\n",
    "\n",
    "### Решение: построение модели\n",
    "\n",
    "Два пути:\n",
    "\n",
    "1. Сформулировать (стат)гипотезу, вывести закон.\n",
    "2. Описать \"как есть\". **(<- подход SOM и др. алгоритмов/моделей)**\n",
    "\n"
   ]
  },
  {
   "cell_type": "markdown",
   "metadata": {
    "deletable": true,
    "editable": true,
    "slideshow": {
     "slide_type": "subslide"
    }
   },
   "source": [
    "### SOM - это вариант кластерного анализа? Или же это алгоритм понижения размерности? Или это метод визуализации данных?\n",
    "<img src=\"Pics/SOMsPCA.PNG\" width=\"50%\">\n",
    "(https://en.wikipedia.org/wiki/Self-organizing_map)\n",
    "\n",
    "* Методы понижения размерности: не уменьшают число примеров;\n",
    "* Векторное квантование/кластеризация: не снижает размерность.\n",
    "\n",
    "SOM: берет плюсы обоих подходов (и как не странно, почти не берет минусов)."
   ]
  },
  {
   "cell_type": "markdown",
   "metadata": {
    "deletable": true,
    "editable": true,
    "slideshow": {
     "slide_type": "slide"
    }
   },
   "source": [
    "# Немного теории"
   ]
  },
  {
   "cell_type": "markdown",
   "metadata": {
    "deletable": true,
    "editable": true,
    "slideshow": {
     "slide_type": "subslide"
    }
   },
   "source": [
    "# Классика жанра: метод k-средних\n",
    "\n",
    "https://ru.wikipedia.org/wiki/K-means\n",
    "\n",
    "### On-line вариант:\n",
    "1. Выбираем k.\n",
    "2. Генерируем (случайным образом?) k центров (прототипов): $y_1$, $y_2$, ..., $y_k$, каждый прототип имеет ту же размерность, что и входные данные (т.е. это $n$-мерные вектора).\n",
    "3. Выбираем случайным образом одну точку из входных данных: $x_i$.\n",
    "4. Находим среди прототипов тот, который ближе всего лежит к $x_i$: $$y_{bmu} = \\underset{j}{\\mathrm{arg min}} (d(y_j, x_j))$$.\n",
    "5. Сдвигаем выбранный прототип $y_{bmu}$  по направлению к $x_i$ с некоторым шагом $\\lambda$: $$y'_{bmu} = y_{bmu} + \\lambda (x_i - y_{bmu})$$.\n",
    "6. Повторяем шаги 3--5 пока не надоест."
   ]
  },
  {
   "cell_type": "markdown",
   "metadata": {
    "deletable": true,
    "editable": true,
    "slideshow": {
     "slide_type": "subslide"
    }
   },
   "source": [
    "# Но что делать, если нам важна топология\n",
    "\n",
    "\n",
    "1. Данные упорядочены в пространстве признаков и порядок важен.\n",
    "2. Нет четких кластеров.\n",
    "3. Ну и вообще, хочется посмотреть на данные глазами, а не только получить координаты прототипов."
   ]
  },
  {
   "cell_type": "markdown",
   "metadata": {
    "deletable": true,
    "editable": true,
    "slideshow": {
     "slide_type": "subslide"
    }
   },
   "source": [
    "# Алгоритм обучения SOM\n",
    "\n",
    "1. Выбираем решетку прототипов/сетку узлов (одномерную, двумерную, трехмерную, ...).\n",
    "2. Инициализируем сетку узлов (обычно случайным образом генерируются узлы в пространстве признаков): $y_1$, $y_2$, ..., $y_k$. Каждый узел имеет две пары координат: на сетке и в пространстве признаков.\n",
    "3. Выбираем случайным образом одну точку из входных данных: $x_i$.\n",
    "4. Находим среди узлов тот, который ближе всего лежит к $x_i$: $$y_{bmu} = \\underset{j}{\\mathrm{arg min}} (d(y_j, x_j))$$.\n",
    "5. **Все узлы** $y_s$, лежащие на сетке около узла $y_{bmu}$, сдвигаются по направлению к $x_i$ с некоторым шагом, зависящим от соседсва $\\lambda(r(y_s, y_{bmu}))$: $$y'_s = y_s + \\lambda(r(y_s, y_{bmu})) (x_i - y_s).$$ Здесь $r(y_i, y_j)$ - расстояние между узлами на сетке, а не в пространстве прототипов.\n",
    "6. Повторяем шаги 3--5 пока не надоест."
   ]
  },
  {
   "cell_type": "markdown",
   "metadata": {
    "deletable": true,
    "editable": true,
    "slideshow": {
     "slide_type": "subslide"
    }
   },
   "source": [
    "<img src=\"Pics/Cactus.png\" width=\"50%\">"
   ]
  },
  {
   "cell_type": "markdown",
   "metadata": {
    "deletable": true,
    "editable": true,
    "slideshow": {
     "slide_type": "subslide"
    }
   },
   "source": [
    "# При чем здесь нейросети?\n",
    "\n",
    "Дело в том, что вопрос вычисления расстояния $d(x_i, y_j)$ между узлами сетки и точками можно вычислять как сумму:\n",
    "$$d(x_i, y_j) = \\sum_{s=1}^n y_j^k x_i^k,$$\n",
    "где $y_j^k$ и $x_i^k$ - $k$-я компонента векторов $y_j$ и $x_i$ соотвественно.\n",
    "\n",
    "Сравните с сумматором нейрона:\n",
    "$$ p = \\sum_{s=1}^n w^k x_i^k$$"
   ]
  },
  {
   "cell_type": "markdown",
   "metadata": {
    "deletable": true,
    "editable": true,
    "slideshow": {
     "slide_type": "slide"
    }
   },
   "source": [
    "# Пример: динамика вегетационного индекса EVI\n",
    "EVI: https://en.wikipedia.org/wiki/Enhanced_vegetation_index\n",
    "\n",
    "Enhanced vegetation index| Примеры спектральных кривых\n",
    "-|-\n",
    "EVI - вегетационный индекс, предназначенный для мониторинга растительности с частичным учетом  влияния атмосферы: $$EVI = G \\frac{NIR-RED}{NIR + C_1 RED - C_2 BLUE + L},$$ где $G, C_1, C_2, L$ - константы. | <img src=\"Pics/Reflectance.png\" width=\"100%\">"
   ]
  },
  {
   "cell_type": "code",
   "execution_count": 1,
   "metadata": {
    "collapsed": false,
    "deletable": true,
    "editable": true,
    "slideshow": {
     "slide_type": "subslide"
    }
   },
   "outputs": [
    {
     "name": "stderr",
     "output_type": "stream",
     "text": [
      "Loading required package: class\n"
     ]
    },
    {
     "data": {
      "text/html": [
       "<table>\n",
       "<thead><tr><th></th><th scope=col>fin_res_mod2003_01_01</th><th scope=col>fin_res_mod2003_01_17</th><th scope=col>fin_res_mod2003_02_02</th><th scope=col>fin_res_mod2003_02_18</th><th scope=col>fin_res_mod2003_03_06</th><th scope=col>fin_res_mod2003_03_22</th><th scope=col>fin_res_mod2003_04_07</th><th scope=col>fin_res_mod2003_04_23</th><th scope=col>fin_res_mod2003_05_09</th><th scope=col>fin_res_mod2003_05_25</th><th scope=col>⋯</th><th scope=col>fin_res_mod2015_08_29</th><th scope=col>fin_res_mod2015_09_14</th><th scope=col>fin_res_mod2015_09_30</th><th scope=col>fin_res_mod2015_10_16</th><th scope=col>fin_res_mod2015_11_01</th><th scope=col>fin_res_mod2015_11_17</th><th scope=col>fin_res_mod2015_12_03</th><th scope=col>fin_res_mod2015_12_19</th><th scope=col>x</th><th scope=col>y</th></tr></thead>\n",
       "<tbody>\n",
       "\t<tr><th scope=row>153386</th><td>0.332    </td><td>0.303    </td><td>0.283    </td><td>0.267    </td><td>0.261    </td><td>0.231    </td><td>0.223    </td><td>0.231    </td><td>0.271    </td><td>0.314    </td><td>⋯        </td><td>0.453    </td><td>0.444    </td><td>0.424    </td><td>0.404    </td><td>0.403    </td><td>0.386    </td><td>0.367    </td><td>0.347    </td><td>-10848633</td><td>2331969  </td></tr>\n",
       "\t<tr><th scope=row>153387</th><td>0.315    </td><td>0.294    </td><td>0.271    </td><td>0.254    </td><td>0.242    </td><td>0.224    </td><td>0.220    </td><td>0.219    </td><td>0.238    </td><td>0.285    </td><td>⋯        </td><td>0.479    </td><td>0.486    </td><td>0.481    </td><td>0.463    </td><td>0.443    </td><td>0.414    </td><td>0.417    </td><td>0.397    </td><td>-10999831</td><td>2205181  </td></tr>\n",
       "\t<tr><th scope=row>153388</th><td>0.209    </td><td>0.195    </td><td>0.181    </td><td>0.165    </td><td>0.151    </td><td>0.141    </td><td>0.136    </td><td>0.133    </td><td>0.130    </td><td>0.126    </td><td>⋯        </td><td>0.405    </td><td>0.417    </td><td>0.424    </td><td>0.421    </td><td>0.417    </td><td>0.401    </td><td>0.380    </td><td>0.352    </td><td>-11223947</td><td>2576377  </td></tr>\n",
       "\t<tr><th scope=row>153389</th><td>0.236    </td><td>0.219    </td><td>0.208    </td><td>0.197    </td><td>0.194    </td><td>0.185    </td><td>0.179    </td><td>0.180    </td><td>0.184    </td><td>0.198    </td><td>⋯        </td><td>0.411    </td><td>0.406    </td><td>0.383    </td><td>0.355    </td><td>0.336    </td><td>0.304    </td><td>0.298    </td><td>0.278    </td><td>-10851588</td><td>2355867  </td></tr>\n",
       "\t<tr><th scope=row>153390</th><td>0.307    </td><td>0.294    </td><td>0.283    </td><td>0.270    </td><td>0.258    </td><td>0.236    </td><td>0.230    </td><td>0.227    </td><td>0.254    </td><td>0.286    </td><td>⋯        </td><td>0.448    </td><td>0.421    </td><td>0.389    </td><td>0.353    </td><td>0.328    </td><td>0.298    </td><td>0.287    </td><td>0.273    </td><td>-10751829</td><td>2461024  </td></tr>\n",
       "\t<tr><th scope=row>153391</th><td>0.180    </td><td>0.180    </td><td>0.177    </td><td>0.175    </td><td>0.174    </td><td>0.164    </td><td>0.173    </td><td>0.186    </td><td>0.211    </td><td>0.234    </td><td>⋯        </td><td>0.327    </td><td>0.312    </td><td>0.293    </td><td>0.273    </td><td>0.258    </td><td>0.243    </td><td>0.234    </td><td>0.228    </td><td>-10819901</td><td>2320996  </td></tr>\n",
       "</tbody>\n",
       "</table>\n"
      ],
      "text/latex": [
       "\\begin{tabular}{r|lllllllllllllllllllllllllllllllllllllllllllllllllllllllllllllllllllllllllllllllllllllllllllllllllllllllllllllllllllllllllllllllllllllllllllllllllllllllllllllllllllllllllllllllllllllllllllllllllllllllllllllllllllllllllllllllllllllllllllllllllllllllllllllllllllllllllllllllllllllllllllllllllllllllllllll}\n",
       "  & fin\\_res\\_mod2003\\_01\\_01 & fin\\_res\\_mod2003\\_01\\_17 & fin\\_res\\_mod2003\\_02\\_02 & fin\\_res\\_mod2003\\_02\\_18 & fin\\_res\\_mod2003\\_03\\_06 & fin\\_res\\_mod2003\\_03\\_22 & fin\\_res\\_mod2003\\_04\\_07 & fin\\_res\\_mod2003\\_04\\_23 & fin\\_res\\_mod2003\\_05\\_09 & fin\\_res\\_mod2003\\_05\\_25 & ⋯ & fin\\_res\\_mod2015\\_08\\_29 & fin\\_res\\_mod2015\\_09\\_14 & fin\\_res\\_mod2015\\_09\\_30 & fin\\_res\\_mod2015\\_10\\_16 & fin\\_res\\_mod2015\\_11\\_01 & fin\\_res\\_mod2015\\_11\\_17 & fin\\_res\\_mod2015\\_12\\_03 & fin\\_res\\_mod2015\\_12\\_19 & x & y\\\\\n",
       "\\hline\n",
       "\t153386 & 0.332     & 0.303     & 0.283     & 0.267     & 0.261     & 0.231     & 0.223     & 0.231     & 0.271     & 0.314     & ⋯         & 0.453     & 0.444     & 0.424     & 0.404     & 0.403     & 0.386     & 0.367     & 0.347     & -10848633 & 2331969  \\\\\n",
       "\t153387 & 0.315     & 0.294     & 0.271     & 0.254     & 0.242     & 0.224     & 0.220     & 0.219     & 0.238     & 0.285     & ⋯         & 0.479     & 0.486     & 0.481     & 0.463     & 0.443     & 0.414     & 0.417     & 0.397     & -10999831 & 2205181  \\\\\n",
       "\t153388 & 0.209     & 0.195     & 0.181     & 0.165     & 0.151     & 0.141     & 0.136     & 0.133     & 0.130     & 0.126     & ⋯         & 0.405     & 0.417     & 0.424     & 0.421     & 0.417     & 0.401     & 0.380     & 0.352     & -11223947 & 2576377  \\\\\n",
       "\t153389 & 0.236     & 0.219     & 0.208     & 0.197     & 0.194     & 0.185     & 0.179     & 0.180     & 0.184     & 0.198     & ⋯         & 0.411     & 0.406     & 0.383     & 0.355     & 0.336     & 0.304     & 0.298     & 0.278     & -10851588 & 2355867  \\\\\n",
       "\t153390 & 0.307     & 0.294     & 0.283     & 0.270     & 0.258     & 0.236     & 0.230     & 0.227     & 0.254     & 0.286     & ⋯         & 0.448     & 0.421     & 0.389     & 0.353     & 0.328     & 0.298     & 0.287     & 0.273     & -10751829 & 2461024  \\\\\n",
       "\t153391 & 0.180     & 0.180     & 0.177     & 0.175     & 0.174     & 0.164     & 0.173     & 0.186     & 0.211     & 0.234     & ⋯         & 0.327     & 0.312     & 0.293     & 0.273     & 0.258     & 0.243     & 0.234     & 0.228     & -10819901 & 2320996  \\\\\n",
       "\\end{tabular}\n"
      ],
      "text/markdown": [
       "\n",
       "| <!--/--> | fin_res_mod2003_01_01 | fin_res_mod2003_01_17 | fin_res_mod2003_02_02 | fin_res_mod2003_02_18 | fin_res_mod2003_03_06 | fin_res_mod2003_03_22 | fin_res_mod2003_04_07 | fin_res_mod2003_04_23 | fin_res_mod2003_05_09 | fin_res_mod2003_05_25 | ⋯ | fin_res_mod2015_08_29 | fin_res_mod2015_09_14 | fin_res_mod2015_09_30 | fin_res_mod2015_10_16 | fin_res_mod2015_11_01 | fin_res_mod2015_11_17 | fin_res_mod2015_12_03 | fin_res_mod2015_12_19 | x | y | \n",
       "|---|---|---|---|---|---|\n",
       "| 153386 | 0.332     | 0.303     | 0.283     | 0.267     | 0.261     | 0.231     | 0.223     | 0.231     | 0.271     | 0.314     | ⋯         | 0.453     | 0.444     | 0.424     | 0.404     | 0.403     | 0.386     | 0.367     | 0.347     | -10848633 | 2331969   | \n",
       "| 153387 | 0.315     | 0.294     | 0.271     | 0.254     | 0.242     | 0.224     | 0.220     | 0.219     | 0.238     | 0.285     | ⋯         | 0.479     | 0.486     | 0.481     | 0.463     | 0.443     | 0.414     | 0.417     | 0.397     | -10999831 | 2205181   | \n",
       "| 153388 | 0.209     | 0.195     | 0.181     | 0.165     | 0.151     | 0.141     | 0.136     | 0.133     | 0.130     | 0.126     | ⋯         | 0.405     | 0.417     | 0.424     | 0.421     | 0.417     | 0.401     | 0.380     | 0.352     | -11223947 | 2576377   | \n",
       "| 153389 | 0.236     | 0.219     | 0.208     | 0.197     | 0.194     | 0.185     | 0.179     | 0.180     | 0.184     | 0.198     | ⋯         | 0.411     | 0.406     | 0.383     | 0.355     | 0.336     | 0.304     | 0.298     | 0.278     | -10851588 | 2355867   | \n",
       "| 153390 | 0.307     | 0.294     | 0.283     | 0.270     | 0.258     | 0.236     | 0.230     | 0.227     | 0.254     | 0.286     | ⋯         | 0.448     | 0.421     | 0.389     | 0.353     | 0.328     | 0.298     | 0.287     | 0.273     | -10751829 | 2461024   | \n",
       "| 153391 | 0.180     | 0.180     | 0.177     | 0.175     | 0.174     | 0.164     | 0.173     | 0.186     | 0.211     | 0.234     | ⋯         | 0.327     | 0.312     | 0.293     | 0.273     | 0.258     | 0.243     | 0.234     | 0.228     | -10819901 | 2320996   | \n",
       "\n",
       "\n"
      ],
      "text/plain": [
       "       fin_res_mod2003_01_01 fin_res_mod2003_01_17 fin_res_mod2003_02_02\n",
       "153386 0.332                 0.303                 0.283                \n",
       "153387 0.315                 0.294                 0.271                \n",
       "153388 0.209                 0.195                 0.181                \n",
       "153389 0.236                 0.219                 0.208                \n",
       "153390 0.307                 0.294                 0.283                \n",
       "153391 0.180                 0.180                 0.177                \n",
       "       fin_res_mod2003_02_18 fin_res_mod2003_03_06 fin_res_mod2003_03_22\n",
       "153386 0.267                 0.261                 0.231                \n",
       "153387 0.254                 0.242                 0.224                \n",
       "153388 0.165                 0.151                 0.141                \n",
       "153389 0.197                 0.194                 0.185                \n",
       "153390 0.270                 0.258                 0.236                \n",
       "153391 0.175                 0.174                 0.164                \n",
       "       fin_res_mod2003_04_07 fin_res_mod2003_04_23 fin_res_mod2003_05_09\n",
       "153386 0.223                 0.231                 0.271                \n",
       "153387 0.220                 0.219                 0.238                \n",
       "153388 0.136                 0.133                 0.130                \n",
       "153389 0.179                 0.180                 0.184                \n",
       "153390 0.230                 0.227                 0.254                \n",
       "153391 0.173                 0.186                 0.211                \n",
       "       fin_res_mod2003_05_25 ⋯ fin_res_mod2015_08_29 fin_res_mod2015_09_14\n",
       "153386 0.314                 ⋯ 0.453                 0.444                \n",
       "153387 0.285                 ⋯ 0.479                 0.486                \n",
       "153388 0.126                 ⋯ 0.405                 0.417                \n",
       "153389 0.198                 ⋯ 0.411                 0.406                \n",
       "153390 0.286                 ⋯ 0.448                 0.421                \n",
       "153391 0.234                 ⋯ 0.327                 0.312                \n",
       "       fin_res_mod2015_09_30 fin_res_mod2015_10_16 fin_res_mod2015_11_01\n",
       "153386 0.424                 0.404                 0.403                \n",
       "153387 0.481                 0.463                 0.443                \n",
       "153388 0.424                 0.421                 0.417                \n",
       "153389 0.383                 0.355                 0.336                \n",
       "153390 0.389                 0.353                 0.328                \n",
       "153391 0.293                 0.273                 0.258                \n",
       "       fin_res_mod2015_11_17 fin_res_mod2015_12_03 fin_res_mod2015_12_19\n",
       "153386 0.386                 0.367                 0.347                \n",
       "153387 0.414                 0.417                 0.397                \n",
       "153388 0.401                 0.380                 0.352                \n",
       "153389 0.304                 0.298                 0.278                \n",
       "153390 0.298                 0.287                 0.273                \n",
       "153391 0.243                 0.234                 0.228                \n",
       "       x         y      \n",
       "153386 -10848633 2331969\n",
       "153387 -10999831 2205181\n",
       "153388 -11223947 2576377\n",
       "153389 -10851588 2355867\n",
       "153390 -10751829 2461024\n",
       "153391 -10819901 2320996"
      ]
     },
     "metadata": {},
     "output_type": "display_data"
    }
   ],
   "source": [
    "# Подгружаем библиотеки\n",
    "library(MASS)\n",
    "library('kohonen')\n",
    "\n",
    "# Читаем данные\n",
    "points = read.table('data/evi.csv', sep=',', header=T)\n",
    "#Последние несколько строк таблицы\n",
    "tail(points)"
   ]
  },
  {
   "cell_type": "code",
   "execution_count": 2,
   "metadata": {
    "collapsed": true,
    "deletable": true,
    "editable": true,
    "slideshow": {
     "slide_type": "skip"
    }
   },
   "outputs": [],
   "source": [
    "options(repr.plot.width=5, repr.plot.height=4)"
   ]
  },
  {
   "cell_type": "code",
   "execution_count": 3,
   "metadata": {
    "collapsed": false,
    "deletable": true,
    "editable": true,
    "slideshow": {
     "slide_type": "subslide"
    }
   },
   "outputs": [
    {
     "data": {
      "image/png": "[encoded data removed]",
      "text/plain": [
       "plot without title"
      ]
     },
     "metadata": {},
     "output_type": "display_data"
    }
   ],
   "source": [
    "size = length(points[, 1])           # Число колонок\n",
    "time_size = length(points) - 2       # Последние две колонки - координаты x,y \n",
    "time_data = points[, 1:time_size]    # Сохраним временные данные отдельно\n",
    "plot(1:time_size, time_data[1, ], 'l')    # Строим график по первой точке"
   ]
  },
  {
   "cell_type": "markdown",
   "metadata": {
    "deletable": true,
    "editable": true,
    "slideshow": {
     "slide_type": "subslide"
    }
   },
   "source": [
    "\n",
    "# Задача\n",
    "### Забудем на время, что мы знаем о природных зонах, представим, что нам нужно понять, как устроены данные\n",
    "\n",
    "Данные:\n",
    " * Чтобы было по-чесному, выкинем информацию о координатах.\n",
    " * Сделаем выборку 8.5 млрд пикселей -> ~ 150 тыс случайных точек.\n",
    " * Съемка ~ 1 раз в две недели с 2003 по 2015 годы (= 300 отсчетов).\n",
    "\n",
    "Другими словами, нужно проанализировать около 150 тыс временных рядов и попытаться выявить, какие есть закономерности в них.\n",
    "\n",
    "# Чем хорош SOM в этой задаче\n",
    "\n",
    "* Удобен для работы с временными и пространственными данными (автокорреляция);\n",
    "* Хорошо справляется с большими массивами данных, легко масштабируется."
   ]
  },
  {
   "cell_type": "markdown",
   "metadata": {
    "deletable": true,
    "editable": true,
    "slideshow": {
     "slide_type": "subslide"
    }
   },
   "source": [
    "# Первый же вопрос: размер сетки\n",
    "* Зависимость положения сетки от отношения сторон:\n",
    "<img src=\"Pics/Dimensions.png\" width=\"50%\">\n",
    "\n",
    "* Зависимость разбиения пространства от количества узлов:\n",
    "<img src=\"Pics/Dimensions1.png\" width=\"50%\">"
   ]
  },
  {
   "cell_type": "markdown",
   "metadata": {
    "collapsed": false,
    "deletable": true,
    "editable": true,
    "slideshow": {
     "slide_type": "subslide"
    }
   },
   "source": [
    "# Обучение"
   ]
  },
  {
   "cell_type": "code",
   "execution_count": 4,
   "metadata": {
    "collapsed": true,
    "deletable": true,
    "editable": true
   },
   "outputs": [],
   "source": [
    "# d.u = unique(time_sample)\n",
    "# d.matr = dist(d.u)\n",
    "\n",
    "# d.sam = sammon(d.matr)\n",
    "# plot(d.sam$points)"
   ]
  },
  {
   "cell_type": "markdown",
   "metadata": {
    "deletable": true,
    "editable": true
   },
   "source": [
    "[<img src=\"Pics/sammon.png\" width=\"100%\">](Pics/sammon.png)"
   ]
  },
  {
   "cell_type": "code",
   "execution_count": 5,
   "metadata": {
    "collapsed": true,
    "deletable": true,
    "editable": true,
    "slideshow": {
     "slide_type": "subslide"
    }
   },
   "outputs": [],
   "source": [
    "# row = 4\n",
    "# col = 7\n",
    "\n",
    "# grd = somgrid(col, row, \"hexagonal\")\n",
    "# d.som = som(as.matrix(time_sample), \n",
    "#             grid = grd, \n",
    "#             rlen=5000\n",
    "# )\n",
    "# plot(d.som)"
   ]
  },
  {
   "cell_type": "markdown",
   "metadata": {
    "deletable": true,
    "editable": true
   },
   "source": [
    "[<img src=\"Pics/som_7x4_5000e.png\" width=\"100%\">](Pics/som_7x4_5000e.png)"
   ]
  },
  {
   "cell_type": "markdown",
   "metadata": {
    "deletable": true,
    "editable": true,
    "slideshow": {
     "slide_type": "skip"
    }
   },
   "source": [
    "[<img src=\"Pics/som_14x8_5000e.png\" width=\"100%\">](Pics/som_14x8_5000e.png)"
   ]
  },
  {
   "cell_type": "markdown",
   "metadata": {
    "deletable": true,
    "editable": true,
    "slideshow": {
     "slide_type": "skip"
    }
   },
   "source": [
    "1. Упорядоченность\n",
    "2. Типы:\n",
    "\n",
    "2.1. Нулевой EVI\n",
    "2.2. Всегда высокий EVI\n",
    "2.3. Выпуклости вверх и вниз\n",
    "2.4. Большая амплитуда\n",
    "2.5. Нет выпуклостей вниз с большой амплитудой"
   ]
  },
  {
   "cell_type": "markdown",
   "metadata": {
    "deletable": true,
    "editable": true,
    "slideshow": {
     "slide_type": "subslide"
    }
   },
   "source": [
    "[<img src=\"Pics/som_y_14x8_5000e.png\" width=\"100%\">](Pics/som_y_14x8_5000e.png)"
   ]
  },
  {
   "cell_type": "markdown",
   "metadata": {
    "deletable": true,
    "editable": true,
    "slideshow": {
     "slide_type": "skip"
    }
   },
   "source": [
    "1. Упорядоченность\n",
    "2. Типы: те же плюс большие промежутки между пиками (правая нижняя часть)"
   ]
  },
  {
   "cell_type": "markdown",
   "metadata": {
    "deletable": true,
    "editable": true,
    "slideshow": {
     "slide_type": "subslide"
    }
   },
   "source": [
    "[<img src=\"Pics/som_y6_20x35_5000e1.png\" width=\"100%\">](Pics/som_y6_20x35_5000e1.png)"
   ]
  },
  {
   "cell_type": "markdown",
   "metadata": {
    "deletable": true,
    "editable": true
   },
   "source": [
    "* Места, где ничего не растет (пустыни? льды?)\n",
    "* Места, где растет всегда (эваториальные леса?)\n",
    "* Места, где в январе не растет, но очень густо летом\n",
    "* Места, где растет всегда, но июль - спад\n",
    "* Ассиметрия пиков EVI"
   ]
  },
  {
   "cell_type": "markdown",
   "metadata": {
    "deletable": true,
    "editable": true,
    "slideshow": {
     "slide_type": "skip"
    }
   },
   "source": [
    "[Карта природных зон](https://ru.wikipedia.org/wiki/%D0%9F%D1%80%D0%B8%D1%80%D0%BE%D0%B4%D0%BD%D0%B0%D1%8F_%D0%B7%D0%BE%D0%BD%D0%B0)\n",
    "\n",
    "* Гренладния: 666-20-1\n",
    "* Сахара: 388-12-3\n",
    "\n",
    "строка| столбец| № класса |место\n",
    "------|--------|----------|------\n",
    "20| 16| 681| сев америка\n",
    "8| 26 | 271| север индостана (два урожая?)\n",
    "2 | 26 | 56| север индостана\n",
    "1 | 11| 11 | аргентина\n"
   ]
  },
  {
   "cell_type": "markdown",
   "metadata": {
    "deletable": true,
    "editable": true,
    "slideshow": {
     "slide_type": "subslide"
    }
   },
   "source": [
    "<img src=\"Pics/som_y6_35x20_5000_count.png\" width=\"100%\">"
   ]
  },
  {
   "cell_type": "markdown",
   "metadata": {
    "deletable": true,
    "editable": true,
    "slideshow": {
     "slide_type": "subslide"
    }
   },
   "source": [
    "<img src=\"Pics/som_y6_20x35_5000_quality.png\" width=\"100%\">"
   ]
  },
  {
   "cell_type": "markdown",
   "metadata": {
    "collapsed": true,
    "deletable": true,
    "editable": true,
    "slideshow": {
     "slide_type": "slide"
    }
   },
   "source": [
    "# Развитие идей\n",
    "\n",
    " * Переход к графовым представлениям внутри сетки, например [CONNvis](https://www.techfak.uni-bielefeld.de/~fschleif/mlr/mlr_05_2012.pdf).\n",
    " * Полный отказ от карт, [нейронный газ](https://ru.wikipedia.org/wiki/%D0%9D%D0%B5%D0%B9%D1%80%D0%BE%D0%BD%D0%BD%D1%8B%D0%B9_%D0%B3%D0%B0%D0%B7)."
   ]
  }
 ],
 "metadata": {
  "celltoolbar": "Slideshow",
  "kernelspec": {
   "display_name": "R",
   "language": "R",
   "name": "ir"
  },
  "language_info": {
   "codemirror_mode": "r",
   "file_extension": ".r",
   "mimetype": "text/x-r-source",
   "name": "R",
   "pygments_lexer": "r",
   "version": "3.2.3"
  }
 },
 "nbformat": 4,
 "nbformat_minor": 2
}
