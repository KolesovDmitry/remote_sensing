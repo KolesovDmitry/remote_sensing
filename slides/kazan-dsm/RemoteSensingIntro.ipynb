{
 "cells": [
  {
   "cell_type": "code",
   "execution_count": 1,
   "metadata": {
    "collapsed": true,
    "slideshow": {
     "slide_type": "skip"
    }
   },
   "outputs": [],
   "source": [
    "%matplotlib inline"
   ]
  },
  {
   "cell_type": "markdown",
   "metadata": {
    "deletable": true,
    "editable": true,
    "slideshow": {
     "slide_type": "slide"
    }
   },
   "source": [
    "# Примеры анализа данных аэрокосмической съемки\n",
    "\n",
    "## Дмитрий Колесов (kolesov.dm@gmail.com)\n",
    "\n",
    "### NextGIS"
   ]
  },
  {
   "cell_type": "markdown",
   "metadata": {
    "deletable": true,
    "editable": true,
    "slideshow": {
     "slide_type": "slide"
    }
   },
   "source": [
    "# О чем пойдет речь\n",
    "\n",
    " * Что это за такие \"Данные аэрокосмической съемки\"\n",
    " * Как их обрабатывать\n",
    " * На чем можно споткнуться\n",
    " * Где их брать"
   ]
  },
  {
   "cell_type": "markdown",
   "metadata": {
    "deletable": true,
    "editable": true,
    "slideshow": {
     "slide_type": "slide"
    }
   },
   "source": [
    "# Исторический обзор\n",
    "\n",
    "* Появление аэрофотосьемки\n",
    "* Ручное дешифрирование\n",
    "* Многозональная (многоканальная) съемка\n"
   ]
  },
  {
   "cell_type": "markdown",
   "metadata": {
    "deletable": true,
    "editable": true,
    "slideshow": {
     "slide_type": "slide"
    }
   },
   "source": [
    "# Примеры задач\n",
    "\n",
    "Применяется, в задачах, где нужно:\n",
    " \n",
    " * обследовать большие территории (например, экологические исследования Сибири);\n",
    " * наземные исследования слишком дороги/опасны;\n",
    " * нужно быстрое реагирование (например, пожары);\n",
    " * ...\n",
    "\n",
    "Сферы применения:\n",
    "\n",
    " * Нефтегазовая отрасль.\n",
    " * Экология.\n",
    " * Военное дело.\n",
    " * Сельское хозяйство.\n",
    " * ..."
   ]
  },
  {
   "cell_type": "markdown",
   "metadata": {
    "slideshow": {
     "slide_type": "slide"
    }
   },
   "source": [
    "# Пара наших задач"
   ]
  },
  {
   "cell_type": "markdown",
   "metadata": {
    "deletable": true,
    "editable": true,
    "slideshow": {
     "slide_type": "subslide"
    }
   },
   "source": [
    "# Поиск незаконных рубок леса\n",
    "\n",
    "<img src=\"IMG/crop0.jpg\" >\n",
    "\n",
    "**Пример:** [До вырубки](http://kolesov.nextgis.com/resource/1/display?base=osm-mapnik&lon=135.2648493647575&lat=47.61579915637495&zoom=17&styles=16,29), [После вырубки](http://kolesov.nextgis.com/resource/1/display?base=osm-mapnik&lon=135.2648493647575&lat=47.61579915637495&zoom=17&styles=16,23). Дальний Восток, зимняя рубка. Распознать ее можно по более светлому пятну по сравнению с окружающим его участком. Сам участок помимо того, что поменял цвет, стал более \"шершавый\" на вид."
   ]
  },
  {
   "cell_type": "markdown",
   "metadata": {
    "deletable": true,
    "editable": true,
    "slideshow": {
     "slide_type": "subslide"
    }
   },
   "source": [
    "# [Поиск посадок марихуаны в Калифорнии](http://kolesov.nextgis.com/resource/100/display?base=osm-mapnik&lon=-123.8788&lat=40.1254&angle=0&zoom=15&styles=97,411,403,437,407,435,431,439,419,423,421,417,441,399,433,405,413,427,401,445,409,425,429,443,415,453,461,447,465,451,449,455,457,463,459,497,489,483,491,477,487,503,473,471,495,493,499,501,485,469,475,481,479,467,505,507,511,517,515,513,509,519,521,523,525,527,529,531,533,535,537,539,541,543,545,547,549,551,553,555,557,559,561,563)\n",
    "\n",
    "<img src=\"IMG/KD2S.png\"> \n",
    "\n",
    "[Да, почти на взлетном поле](http://kolesov.nextgis.com/resource/100/display?base=osm-mapnik&lon=-123.8191&lat=40.0840&angle=0&zoom=14&styles=97,99)"
   ]
  },
  {
   "cell_type": "markdown",
   "metadata": {
    "deletable": true,
    "editable": true,
    "slideshow": {
     "slide_type": "slide"
    }
   },
   "source": [
    "# Немного теории"
   ]
  },
  {
   "cell_type": "markdown",
   "metadata": {
    "deletable": true,
    "editable": true,
    "slideshow": {
     "slide_type": "subslide"
    }
   },
   "source": [
    "# Солнечное излучение и датчик\n",
    "\n",
    "<img src=\"IMG/Dos_img_1.jpg\">"
   ]
  },
  {
   "cell_type": "markdown",
   "metadata": {
    "deletable": true,
    "editable": true,
    "slideshow": {
     "slide_type": "subslide"
    }
   },
   "source": [
    "# Многоканальные снимки\n",
    "\n",
    "<img src=\"IMG/Reflectance.png\" >"
   ]
  },
  {
   "cell_type": "markdown",
   "metadata": {
    "deletable": true,
    "editable": true,
    "slideshow": {
     "slide_type": "subslide"
    }
   },
   "source": [
    "# Пространство признаков\n",
    "\n",
    "<img src=\"IMG/feature_space.png\" >"
   ]
  },
  {
   "cell_type": "markdown",
   "metadata": {
    "deletable": true,
    "editable": true,
    "slideshow": {
     "slide_type": "slide"
    }
   },
   "source": [
    "# Пример №1: Landsat-8, Казань\n",
    "\n",
    "Спектральный канал | Длины волн | Разрешение (размер 1 пикселя)\n",
    "----------------------|---------|---\n",
    "Канал 1 — Побережья и аэрозоли (Coastal / Aerosol, New Deep Blue) | 0.433 — 0.453 мкм | 30 м\n",
    "Канал 2 — Синий (Blue) | 0.450 — 0.515 мкм | 30 м\n",
    "Канал 3 — Зелёный (Green) | 0.525 — 0.600 мкм | 30 м\n",
    "Канал 4 — Красный (Red) | 0.630 — 0.680 мкм | 30 м\n",
    "Канал 5 — Ближний ИК (Near Infrared, NIR) | 0.845 — 0.885 мкм | 30 м\n",
    "Канал 6 — Ближний ИК (Short Wavelength Infrared, SWIR 2) | 1.560 — 1.660 мкм | 30 м\n",
    "Канал 7 — Ближний ИК (Short Wavelength Infrared, SWIR 3) | 2.100 — 2.300 мкм | 30 м\n",
    "Канал 8 — Панхроматический (Panchromatic, PAN) | 0.500 — 0.680 мкм | 15 м\n",
    "Канал 9 — Перистые облака (Cirrus, SWIR) | 1.360 — 1.390 мкм | 30 м\n",
    "Канал 10 — Дальний ИК (Long Wavelength Infrared, TIR1) |10.30 — 11.30 мкм |100 м\n",
    "Канал 11 — Дальний ИК (Long Wavelength Infrared, TIR2) |11.50 — 12.50 мкм |\t100 м"
   ]
  },
  {
   "cell_type": "code",
   "execution_count": 2,
   "metadata": {
    "collapsed": false,
    "deletable": true,
    "editable": true,
    "slideshow": {
     "slide_type": "subslide"
    }
   },
   "outputs": [
    {
     "data": {
      "text/html": [
       "<div>\n",
       "<table border=\"1\" class=\"dataframe\">\n",
       "  <thead>\n",
       "    <tr style=\"text-align: right;\">\n",
       "      <th></th>\n",
       "      <th>class</th>\n",
       "      <th>r1</th>\n",
       "      <th>r2</th>\n",
       "      <th>r3</th>\n",
       "      <th>r4</th>\n",
       "      <th>r5</th>\n",
       "      <th>r6</th>\n",
       "      <th>r7</th>\n",
       "      <th>r8</th>\n",
       "      <th>r9</th>\n",
       "      <th>r10</th>\n",
       "      <th>r11</th>\n",
       "    </tr>\n",
       "  </thead>\n",
       "  <tbody>\n",
       "    <tr>\n",
       "      <th>295</th>\n",
       "      <td>3</td>\n",
       "      <td>0.124330</td>\n",
       "      <td>0.104308</td>\n",
       "      <td>0.087843</td>\n",
       "      <td>0.071109</td>\n",
       "      <td>0.227926</td>\n",
       "      <td>0.151615</td>\n",
       "      <td>0.126195</td>\n",
       "      <td>0.095499</td>\n",
       "      <td>0.001104</td>\n",
       "      <td>301.609731</td>\n",
       "      <td>298.717191</td>\n",
       "    </tr>\n",
       "    <tr>\n",
       "      <th>296</th>\n",
       "      <td>3</td>\n",
       "      <td>0.170779</td>\n",
       "      <td>0.162608</td>\n",
       "      <td>0.140304</td>\n",
       "      <td>0.149554</td>\n",
       "      <td>0.156204</td>\n",
       "      <td>0.188347</td>\n",
       "      <td>0.180814</td>\n",
       "      <td>0.177649</td>\n",
       "      <td>0.001497</td>\n",
       "      <td>301.884576</td>\n",
       "      <td>299.011167</td>\n",
       "    </tr>\n",
       "    <tr>\n",
       "      <th>297</th>\n",
       "      <td>3</td>\n",
       "      <td>0.185673</td>\n",
       "      <td>0.176619</td>\n",
       "      <td>0.144328</td>\n",
       "      <td>0.131789</td>\n",
       "      <td>0.138194</td>\n",
       "      <td>0.173625</td>\n",
       "      <td>0.186556</td>\n",
       "      <td>0.136427</td>\n",
       "      <td>0.001202</td>\n",
       "      <td>302.764969</td>\n",
       "      <td>299.547586</td>\n",
       "    </tr>\n",
       "    <tr>\n",
       "      <th>298</th>\n",
       "      <td>3</td>\n",
       "      <td>0.139764</td>\n",
       "      <td>0.123717</td>\n",
       "      <td>0.108479</td>\n",
       "      <td>0.104651</td>\n",
       "      <td>0.129213</td>\n",
       "      <td>0.135126</td>\n",
       "      <td>0.107227</td>\n",
       "      <td>0.066594</td>\n",
       "      <td>0.001104</td>\n",
       "      <td>301.803804</td>\n",
       "      <td>299.365326</td>\n",
       "    </tr>\n",
       "    <tr>\n",
       "      <th>299</th>\n",
       "      <td>3</td>\n",
       "      <td>0.144279</td>\n",
       "      <td>0.122882</td>\n",
       "      <td>0.106369</td>\n",
       "      <td>0.102173</td>\n",
       "      <td>0.197205</td>\n",
       "      <td>0.173601</td>\n",
       "      <td>0.136795</td>\n",
       "      <td>0.075182</td>\n",
       "      <td>0.001129</td>\n",
       "      <td>301.558850</td>\n",
       "      <td>299.002856</td>\n",
       "    </tr>\n",
       "  </tbody>\n",
       "</table>\n",
       "</div>"
      ],
      "text/plain": [
       "     class        r1        r2        r3        r4        r5        r6  \\\n",
       "295      3  0.124330  0.104308  0.087843  0.071109  0.227926  0.151615   \n",
       "296      3  0.170779  0.162608  0.140304  0.149554  0.156204  0.188347   \n",
       "297      3  0.185673  0.176619  0.144328  0.131789  0.138194  0.173625   \n",
       "298      3  0.139764  0.123717  0.108479  0.104651  0.129213  0.135126   \n",
       "299      3  0.144279  0.122882  0.106369  0.102173  0.197205  0.173601   \n",
       "\n",
       "           r7        r8        r9         r10         r11  \n",
       "295  0.126195  0.095499  0.001104  301.609731  298.717191  \n",
       "296  0.180814  0.177649  0.001497  301.884576  299.011167  \n",
       "297  0.186556  0.136427  0.001202  302.764969  299.547586  \n",
       "298  0.107227  0.066594  0.001104  301.803804  299.365326  \n",
       "299  0.136795  0.075182  0.001129  301.558850  299.002856  "
      ]
     },
     "execution_count": 2,
     "metadata": {},
     "output_type": "execute_result"
    }
   ],
   "source": [
    "import numpy as np\n",
    "import pandas as pd\n",
    "points = pd.read_csv('rand.txt')\n",
    "points.tail()"
   ]
  },
  {
   "cell_type": "code",
   "execution_count": 3,
   "metadata": {
    "collapsed": false,
    "deletable": true,
    "editable": true
   },
   "outputs": [],
   "source": [
    "y = points[\"class\"]\n",
    "X = points[['r1', 'r2', 'r3', 'r4', 'r5', 'r6', 'r7', 'r8', 'r9', 'r10', 'r11']]"
   ]
  },
  {
   "cell_type": "code",
   "execution_count": 4,
   "metadata": {
    "collapsed": false,
    "deletable": true,
    "editable": true,
    "slideshow": {
     "slide_type": "subslide"
    }
   },
   "outputs": [],
   "source": [
    "# Разбиваем на обучающее и тестовое множества:\n",
    "from sklearn.model_selection import train_test_split\n",
    "X_train, X_test, y_train, y_test = train_test_split(X, y, test_size=0.3, random_state=0)\n",
    "\n",
    "# Нормируем входные данные:\n",
    "from sklearn.preprocessing import StandardScaler\n",
    "sc = StandardScaler()\n",
    "sc.fit(X_train)\n",
    "X_train_std = sc.transform(X_train)\n",
    "X_test_std = sc.transform(X_test)"
   ]
  },
  {
   "cell_type": "code",
   "execution_count": 5,
   "metadata": {
    "collapsed": false,
    "deletable": true,
    "editable": true,
    "slideshow": {
     "slide_type": "subslide"
    }
   },
   "outputs": [
    {
     "name": "stdout",
     "output_type": "stream",
     "text": [
      "0.986666666667\n",
      "{'clf__penalty': 'l2', 'clf__C': 1.0}\n",
      "Test accuracy: 0.989\n"
     ]
    }
   ],
   "source": [
    "from sklearn.model_selection import cross_val_score\n",
    "from sklearn.metrics import confusion_matrix\n",
    "from sklearn.linear_model import LogisticRegression\n",
    "# from sklearn.decomposition import PCA\n",
    "from sklearn.pipeline import Pipeline\n",
    "from sklearn.model_selection import GridSearchCV\n",
    "\n",
    "# Подгоняем модель\n",
    "pipe_lr = Pipeline([\n",
    "        # ('pca', PCA(n_components=10)), \n",
    "        ('clf', LogisticRegression(random_state=1))])\n",
    "param_range = [0.0001, 0.001, 0.01, 0.1, 1.0, 10.0, 100.0, 1000.0]\n",
    "param_grid = [{'clf__C': param_range, 'clf__penalty': ['l1', 'l2']}]\n",
    "gs = GridSearchCV(estimator=pipe_lr, param_grid=param_grid,\n",
    "    scoring='accuracy', cv=10)\n",
    "\n",
    "gs = gs.fit(X, y)\n",
    "print(gs.best_score_)\n",
    "print(gs.best_params_)\n",
    "\n",
    "clf = gs.best_estimator_\n",
    "clf.fit(X_train, y_train)\n",
    "print('Test accuracy: %.3f' % clf.score(X_test, y_test))"
   ]
  },
  {
   "cell_type": "markdown",
   "metadata": {
    "deletable": true,
    "editable": true,
    "slideshow": {
     "slide_type": "slide"
    }
   },
   "source": [
    "# Не все так плохо, если\n",
    "\n",
    "* создать больше классов;\n",
    "* аккуратнее выбирать обучающие примеры;\n",
    "* выбирать примеры не с одного участка снимка, а разных;\n",
    "* ...\n",
    "\n",
    "<img src=\"IMG/try.jpg\" >"
   ]
  },
  {
   "cell_type": "markdown",
   "metadata": {
    "deletable": true,
    "editable": true,
    "slideshow": {
     "slide_type": "slide"
    }
   },
   "source": [
    "# Подводные камни и как с ними бороться\n",
    "\n",
    "### Модель, обученная на одной сцене обычно не годится для анализа другой:\n",
    "\n",
    " * Другое состояние атмосферы.\n",
    " * Произошли изменения земной поверности (растительность уже поменялась).\n",
    " \n",
    "### Модель, хоршо работающая на одном участке снимка, не работает на другом:\n",
    " * Другое состояние атмосферы.\n",
    " * Иной рельеф."
   ]
  },
  {
   "cell_type": "markdown",
   "metadata": {
    "slideshow": {
     "slide_type": "subslide"
    }
   },
   "source": [
    "# Состояние атмосферы. Атмосферная коррекция\n",
    "\n",
    "<img src=\"IMG/Dos_img_1.jpg\">\n"
   ]
  },
  {
   "cell_type": "markdown",
   "metadata": {
    "slideshow": {
     "slide_type": "subslide"
    }
   },
   "source": [
    "# Влияние рельефа. Топографическая коррекция\n",
    "\n",
    "<img src=\"IMG/reflection.png\" >"
   ]
  },
  {
   "cell_type": "markdown",
   "metadata": {
    "slideshow": {
     "slide_type": "slide"
    }
   },
   "source": [
    " \n",
    "# Пространственная автокорреляция и обучение моделей"
   ]
  },
  {
   "cell_type": "code",
   "execution_count": 6,
   "metadata": {
    "collapsed": false,
    "slideshow": {
     "slide_type": "skip"
    }
   },
   "outputs": [
    {
     "data": {
      "image/png": "[encoded data removed]",
      "text/plain": [
       "<matplotlib.figure.Figure at 0x7fc28bd3aa90>"
      ]
     },
     "metadata": {},
     "output_type": "display_data"
    },
    {
     "data": {
      "image/png": "[encoded data removed]",
      "text/plain": [
       "<matplotlib.figure.Figure at 0x7fc28bd3af50>"
      ]
     },
     "metadata": {},
     "output_type": "display_data"
    }
   ],
   "source": [
    "import matplotlib.pyplot as plt\n",
    "from statsmodels.graphics.tsaplots import plot_acf\n",
    "x = np.array(range(72))\n",
    "y = 10 + 0.5*x + 10*np.sin(x)\n",
    "plt.plot(x,y)\n",
    "plot_acf(y);"
   ]
  },
  {
   "cell_type": "markdown",
   "metadata": {
    "slideshow": {
     "slide_type": "subslide"
    }
   },
   "source": [
    "# Пространственная автокорреляция\n",
    "\n",
    "<img src=\"IMG/autocorrelation.png\">"
   ]
  },
  {
   "cell_type": "markdown",
   "metadata": {
    "slideshow": {
     "slide_type": "subslide"
    }
   },
   "source": [
    "# Это может быть большой проблемой\n",
    "\n",
    "<img src=\"IMG/denove.jpg\" >"
   ]
  },
  {
   "cell_type": "markdown",
   "metadata": {
    "slideshow": {
     "slide_type": "slide"
    }
   },
   "source": [
    "# Пример №2: генерация признаков"
   ]
  },
  {
   "cell_type": "markdown",
   "metadata": {
    "deletable": true,
    "editable": true,
    "slideshow": {
     "slide_type": "subslide"
    }
   },
   "source": [
    "# Залесенные березой болота и зарастающие березой гари.\n",
    "\n",
    "### NDVI\n",
    "\n",
    "NDVI (Normalized Difference Vegetation Index) простой количественный показатель количества фотосинтетически активной биомассы.\n",
    "\n",
    "Пусть NIR - отражение в ближней инфракрасной области спектра,\n",
    "RED - отражение в красной области спектра, тогда:\n",
    "$$\n",
    "NDVI = \\frac{NIR - RED}{NIR + RED}\n",
    "$$\n",
    "\n",
    "\n",
    "**Примеры значений**\n",
    "\n",
    " Тип объекта | Значение NDVI \n",
    "-------------|:--------------:\n",
    " Густая растительность | 0.7 \n",
    " Разреженная растительность | 0.5 \n",
    " Открытая почва | 0.025 \n",
    " Облака | 0 "
   ]
  },
  {
   "cell_type": "markdown",
   "metadata": {
    "deletable": true,
    "editable": true,
    "slideshow": {
     "slide_type": "subslide"
    }
   },
   "source": [
    "\n",
    "\"Сырые\" ряды | \"Низкие частоты\"\n",
    "--------------|---------------------\n",
    "<img src=\"IMG/raw_ndvi1.png\" > | <img src=\"IMG/filtered_ndvi1.png\" >\n",
    "Выборка значений «сырых» рядов NDVI, извлеченных непосредственно из MOD13 для: 1 - залесенных березой болот; 2 -  зарастающих березой гарей.| Пример кривых NDVI после удаления высокочастотных компонент для: 1 - залесенных березой болот; 2 - зарастающих березой гарей.\n"
   ]
  },
  {
   "cell_type": "markdown",
   "metadata": {
    "collapsed": true,
    "deletable": true,
    "editable": true,
    "slideshow": {
     "slide_type": "subslide"
    }
   },
   "source": [
    "# Разделимость классов по коэффициентам разложения в ряд Фурье\n",
    "\n",
    "<img src=\"IMG/separation.png\" >\n",
    "\n",
    "Пример разделимости классов по первым коэффициентам разложения в ряд Фурье для:\n",
    "1 - залесенных березой болот; 2 -  зарастающих березой гарей.\n"
   ]
  },
  {
   "cell_type": "markdown",
   "metadata": {
    "slideshow": {
     "slide_type": "slide"
    }
   },
   "source": [
    "# Вместо заключения\n",
    "\n",
    "* В анализе ДЗЗ очень много интересных задач на любой вкус и любой сложности: математических, инженерных, физических, ... ."
   ]
  },
  {
   "cell_type": "markdown",
   "metadata": {
    "slideshow": {
     "slide_type": "slide"
    }
   },
   "source": [
    "# Полезные ссылки\n",
    "\n",
    " * Сайт космической программы Landsat: http://landsat.gsfc.nasa.gov\n",
    " * Сайт космической программы MODIS: http://modis.gsfc.nasa.gov\n",
    " * Сайт геологической службы США: **https://earthexplorer.usgs.gov/**, http://www.usgs.gov\n"
   ]
  }
 ],
 "metadata": {
  "celltoolbar": "Slideshow",
  "kernelspec": {
   "display_name": "Python 2",
   "language": "python",
   "name": "python2"
  },
  "language_info": {
   "codemirror_mode": {
    "name": "ipython",
    "version": 2
   },
   "file_extension": ".py",
   "mimetype": "text/x-python",
   "name": "python",
   "nbconvert_exporter": "python",
   "pygments_lexer": "ipython2",
   "version": "2.7.12"
  }
 },
 "nbformat": 4,
 "nbformat_minor": 2
}
